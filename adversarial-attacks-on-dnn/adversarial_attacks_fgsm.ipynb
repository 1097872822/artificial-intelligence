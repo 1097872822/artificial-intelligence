{
  "nbformat": 4,
  "nbformat_minor": 0,
  "metadata": {
    "colab": {
      "name": "adversarial_attacks_on_dnn.ipynb",
      "provenance": [],
      "collapsed_sections": [],
      "toc_visible": true
    },
    "kernelspec": {
      "name": "python3",
      "display_name": "Python 3"
    },
    "accelerator": "GPU"
  },
  "cells": [
    {
      "cell_type": "markdown",
      "metadata": {
        "id": "2hsSUcvDYIVE"
      },
      "source": [
        "# Introduction\n"
      ]
    },
    {
      "cell_type": "markdown",
      "metadata": {
        "id": "I7CqrKE274aw"
      },
      "source": [
        "In this project, we will investigate adversarial perturbation attacks using the Fast Gradient Signed Method (FGSM) on Deep Neural Networks with the MNIST digits dataset as a benchmark. FGSM attack was one of the first and most popular attacks to fool a neural network. We will then evaluate adversarial retraining as a defense against adversarial perturbations."
      ]
    },
    {
      "cell_type": "markdown",
      "metadata": {
        "id": "YKek9NPnkHbf"
      },
      "source": [
        "## What is Adversarial Attacks?\n",
        "\n",
        "Adversarial input attacks can be broadly classified into two types, one is non-targeted attack and the other is targeted attack.\n",
        "\n",
        "* Non-targeted Attack: Aiming to fool the neural network and output a label different than the original one.\n",
        "* Targeted Attack: Intentionally misleading the network to output a specific label designed by the attacker.\n",
        "\n",
        "For example, a face recognition system for security entrance control:\n",
        "* Non-targeted attacks should lead to denial of legal access.\n",
        "* Targeted attacks bring the jeopardy of illegal entrance.\n",
        "\n",
        "To fool the neural network, we need a special kind of input data called adversarial examples."
      ]
    },
    {
      "cell_type": "markdown",
      "metadata": {
        "id": "tavJzf4vzFhN"
      },
      "source": [
        "## What is Adversarial Example?\n",
        "\n",
        "Adversarial examples are specialised inputs created with the purpose of confusing a neural network, resulting in the misclassification of a given input. These notorious inputs are indistinguishable to the human eye, but cause the network to fail to identify the contents of the image. There are several types of such attacks, however, here the focus is on the fast gradient sign method attack, which is a white box attack whose goal is to ensure misclassification. A white box attack is where the attacker has complete access to the model being attacked. One of the most famous examples of an adversarial image shown below is taken from the aforementioned paper.\n",
        "\n",
        "![Adversarail Example](https://www.tensorflow.org/tutorials/generative/images/adversarial_example.png)\n",
        "\n",
        "Here, starting with the image of a panda, the attacker adds small perturbations (distortions) to the original image, which results in the model labelling this image as a gibbon, with high confidence. The process of adding these perturbations is FGSM, which will be explained below."
      ]
    },
    {
      "cell_type": "markdown",
      "metadata": {
        "id": "XkzFmYcE4mYn"
      },
      "source": [
        "## Fast Gradient Sign Method\n",
        "\n",
        "The fast gradient sign method works by using the gradients of the neural network to create an adversarial example. For an input image, the method uses the gradients of the loss with respect to the input image to create a new image that maximises the loss. This new image is called the adversarial image. This can be summarised using the following expression:\n",
        "\n",
        "**Non-targeted Attack**:\n",
        "\n",
        "\\begin{equation}\n",
        "adv\\_x = clip(x + \\epsilon * sign(\\nabla_xJ(\\theta, x, y^*))) \\tag{0}\n",
        "\\end{equation}\n",
        "\n",
        "where\n",
        "* $adv\\_x$ : Adversarial image.\n",
        "* $x$ : Original input image.\n",
        "* $y^*$ : Original input label (true label)\n",
        "* $\\epsilon$ : Multiplier to ensure the perturbations are small.\n",
        "* $\\theta$ : Model parameters.\n",
        "* $J$ : Loss.\n",
        "\n",
        "**Targeted Attack**:\n",
        "\n",
        "\\begin{equation}\n",
        "adv\\_x = clip(x - \\epsilon * sign(\\nabla_xJ(\\theta, x, y')))  \\tag{1}\n",
        "\\end{equation}\n",
        "\n",
        "where\n",
        "* $adv\\_x$ : Adversarial image.\n",
        "* $x$ : Original input image.\n",
        "* $y'$ : Target label (fake label)\n",
        "* $\\epsilon$ : Multiplier to ensure the perturbations are small.\n",
        "* $\\theta$ : Model parameters.\n",
        "* $J$ : Loss.\n",
        "\n",
        "An intriguing property here, is the fact that the gradients are taken with respect to the input image. This is done because the objective is to create an image that maximises the loss. A method to accomplish this is to find how much each pixel in the image contributes to the loss value, and add a perturbation accordingly. This works pretty fast because it is easy to find how each input pixel contributes to the loss by using the chain rule and finding the required gradients. Hence, the gradients are taken with respect to the image. In addition, since the model is no longer being trained (thus the gradient is not taken with respect to the trainable variables, i.e., the model parameters), and so the model parameters remain constant. The only goal is to fool an already trained model.\n",
        "\n",
        "In the experiments section, we will try and fool a pretrained model, the model is a 2-layer DNN, pretrained on MNIST."
      ]
    },
    {
      "cell_type": "markdown",
      "metadata": {
        "id": "gZY5NAFmYLOF"
      },
      "source": [
        "# Dataset\n"
      ]
    },
    {
      "cell_type": "markdown",
      "metadata": {
        "id": "Y6_iIOmUzao2"
      },
      "source": [
        "The MNIST dataset will be used in this project. The MNIST dataset is a commonly used 'toy' benchmarks for machine learning. It contains a train set of 60000 28x28 grayscale images of hand-drawn digits from 0-9, along with the associated labels. Also, it contains a test set of 10000 images. The dataset is available as part of the tensorflow package, which we will be using extensively in this project. For more details, please see the [link](https://colab.research.google.com/github/tensorflow/docs/blob/master/site/en/tutorials/quickstart/beginner.ipynb#scrollTo=7NAbSZiaoJ4z) of how to use MNIST dataset.\n",
        "\n",
        "Load and prepare the [MNIST dataset](http://yann.lecun.com/exdb/mnist/). Convert the samples from integers to floating-point numbers:"
      ]
    },
    {
      "cell_type": "code",
      "metadata": {
        "id": "2i-11qeP4t-6"
      },
      "source": [
        "import tensorflow as tf\n",
        "import numpy as np\n",
        "\n",
        "mnist = tf.keras.datasets.mnist\n",
        "\n",
        "(x_train, y_train), (x_test, y_test) = mnist.load_data()\n",
        "x_train, x_test = x_train / 255.0, x_test / 255.0"
      ],
      "execution_count": null,
      "outputs": []
    },
    {
      "cell_type": "code",
      "metadata": {
        "id": "lSli4jXtADYF",
        "colab": {
          "base_uri": "https://localhost:8080/"
        },
        "outputId": "3d84b3ec-2d42-45d2-f364-97ca5642a687"
      },
      "source": [
        "print(\"trainset shape: {}\".format(x_train.shape))\n",
        "print(\"testset shape: {}\".format(x_test.shape))"
      ],
      "execution_count": null,
      "outputs": [
        {
          "output_type": "stream",
          "text": [
            "trainset shape: (60000, 28, 28)\n",
            "testset shape: (10000, 28, 28)\n"
          ],
          "name": "stdout"
        }
      ]
    },
    {
      "cell_type": "markdown",
      "metadata": {
        "id": "y8Nya6FIYM2e"
      },
      "source": [
        "# Experiments"
      ]
    },
    {
      "cell_type": "markdown",
      "metadata": {
        "id": "QwNeYg_J-Mpv"
      },
      "source": [
        "## Pretrain DNN on MNIST"
      ]
    },
    {
      "cell_type": "markdown",
      "metadata": {
        "id": "ROOTIYYR_fHv"
      },
      "source": [
        "The sample Google Colab [notebook](https://colab.research.google.com/github/tensorflow/docs/blob/master/site/en/tutorials/quickstart/beginner.ipynb#scrollTo=7NAbSZiaoJ4z)\n",
        "that implements a 2-layer DNN for MNIST digit classification. The DNN has a 784 (28x28) dimensional input, a 10-dimensional output (prediction probabilities for each of the 10 classes) and one hidden layer with 300 hidden neurons and ReLU activations. We will implement my attacks and defenses on this **baseline DNN**.\n",
        "\n",
        "Let's build this baseline DNN. Build the `tf.keras.Sequential` model by stacking layers. Choose an optimizer and loss function for training:\n"
      ]
    },
    {
      "cell_type": "code",
      "metadata": {
        "id": "zv137dwIAyMw"
      },
      "source": [
        "baseline_dnn = tf.keras.models.Sequential([\n",
        "  tf.keras.layers.Flatten(input_shape=(28, 28)),\n",
        "  tf.keras.layers.Dense(128, activation='relu'),\n",
        "  tf.keras.layers.Dropout(0.2),\n",
        "  tf.keras.layers.Dense(10)\n",
        "])"
      ],
      "execution_count": null,
      "outputs": []
    },
    {
      "cell_type": "markdown",
      "metadata": {
        "id": "jEVWucEkDc_2"
      },
      "source": [
        "Use SparseCategoricalCrossentropy loss function. The `losses.SparseCategoricalCrossentropy` loss takes a vector of logits and a `True` index and returns a scalar loss for each example. This loss is equal to the negative log probability of the true class:\n",
        "It is zero if the model is sure of the correct class."
      ]
    },
    {
      "cell_type": "code",
      "metadata": {
        "id": "RSkzdv8MD0tT"
      },
      "source": [
        "loss_fn = tf.keras.losses.SparseCategoricalCrossentropy(from_logits=True)"
      ],
      "execution_count": null,
      "outputs": []
    },
    {
      "cell_type": "markdown",
      "metadata": {
        "id": "QtMY2RjoD_gc"
      },
      "source": [
        "Train the baseline 2-layer DNN model.\n"
      ]
    },
    {
      "cell_type": "code",
      "metadata": {
        "id": "9foNKHzTD2Vo",
        "colab": {
          "base_uri": "https://localhost:8080/"
        },
        "outputId": "29d07475-2715-4bc6-9d08-450db6f1fb08"
      },
      "source": [
        "baseline_dnn.compile(optimizer='adam',\n",
        "              loss=loss_fn,\n",
        "              metrics=['accuracy'])\n",
        "\n",
        "baseline_dnn.fit(x_train, y_train, epochs=5)"
      ],
      "execution_count": null,
      "outputs": [
        {
          "output_type": "stream",
          "text": [
            "Epoch 1/5\n",
            "1875/1875 [==============================] - 3s 2ms/step - loss: 0.2943 - accuracy: 0.9143\n",
            "Epoch 2/5\n",
            "1875/1875 [==============================] - 3s 2ms/step - loss: 0.1416 - accuracy: 0.9580\n",
            "Epoch 3/5\n",
            "1875/1875 [==============================] - 3s 2ms/step - loss: 0.1080 - accuracy: 0.9669\n",
            "Epoch 4/5\n",
            "1875/1875 [==============================] - 3s 2ms/step - loss: 0.0885 - accuracy: 0.9727\n",
            "Epoch 5/5\n",
            "1875/1875 [==============================] - 4s 2ms/step - loss: 0.0757 - accuracy: 0.9756\n"
          ],
          "name": "stdout"
        },
        {
          "output_type": "execute_result",
          "data": {
            "text/plain": [
              "<tensorflow.python.keras.callbacks.History at 0x7fe3ba4f9588>"
            ]
          },
          "metadata": {
            "tags": []
          },
          "execution_count": 80
        }
      ]
    },
    {
      "cell_type": "markdown",
      "metadata": {
        "id": "jZiaQErxEbZ3"
      },
      "source": [
        "Evaluate the baseline model."
      ]
    },
    {
      "cell_type": "code",
      "metadata": {
        "id": "F7dTAzgHDUh7",
        "colab": {
          "base_uri": "https://localhost:8080/"
        },
        "outputId": "e741c09e-74bd-4a93-df8e-3719aeeaaea5"
      },
      "source": [
        "baseline_dnn.evaluate(x_test,  y_test, verbose=2)\n",
        "baseline_dnn.trainable = False"
      ],
      "execution_count": null,
      "outputs": [
        {
          "output_type": "stream",
          "text": [
            "313/313 - 0s - loss: 0.0703 - accuracy: 0.9799\n"
          ],
          "name": "stdout"
        }
      ]
    },
    {
      "cell_type": "markdown",
      "metadata": {
        "id": "R1MgcoUqEp95"
      },
      "source": [
        "The baseline image classifier is now trained to ~98% accuracy on MNIST dataset."
      ]
    },
    {
      "cell_type": "markdown",
      "metadata": {
        "id": "ervLDPdueaIC"
      },
      "source": [
        "Since it is more intuitive for the baseline model to return a probability, we can wrap the trained model, and attach the softmax to it:"
      ]
    },
    {
      "cell_type": "code",
      "metadata": {
        "id": "rYb6DrEH0GMv"
      },
      "source": [
        "probability_baseline = tf.keras.Sequential([\n",
        "  baseline_dnn,\n",
        "  tf.keras.layers.Softmax()\n",
        "])"
      ],
      "execution_count": null,
      "outputs": []
    },
    {
      "cell_type": "code",
      "metadata": {
        "id": "Ds4rzIpcUJD0"
      },
      "source": [
        "# image: shape(1, 28, 28)\n",
        "def baseline_model_predict_class(image):\n",
        "  predition_prob = probability_baseline(image)\n",
        "  prediction_class = tf.argmax(predition_prob, axis=1)\n",
        "  return int(prediction_class)"
      ],
      "execution_count": null,
      "outputs": []
    },
    {
      "cell_type": "markdown",
      "metadata": {
        "id": "KEmZ7xRKoetl"
      },
      "source": [
        "Test baseline model on first 5 testcases in test set. We can see that all 5 images are classified correctly."
      ]
    },
    {
      "cell_type": "code",
      "metadata": {
        "id": "TGNUrLotlZth",
        "colab": {
          "base_uri": "https://localhost:8080/"
        },
        "outputId": "2ceb974e-0dba-4a0f-f5dd-533af9556a6e"
      },
      "source": [
        "print('Baseline model prediction probability of first 5 testcases in test set:')\n",
        "predition_prob = probability_baseline(x_test[:5])\n",
        "print(predition_prob)\n",
        "\n",
        "print('\\nBaseline model prediction class of first 5 testcases in test set:')\n",
        "prediction_class = tf.argmax(predition_prob, axis=1)\n",
        "print(prediction_class)\n",
        "\n",
        "for i in range(5):\n",
        "  input_image = x_test[i:i+1]\n",
        "  print(\"image_id: {} predict_class: {}\".format(i, baseline_model_predict_class(input_image)))\n",
        "\n",
        "print('\\nTrue label of first 5 testcases:')\n",
        "print(y_test[:5])"
      ],
      "execution_count": null,
      "outputs": [
        {
          "output_type": "stream",
          "text": [
            "Baseline model prediction probability of first 5 testcases in test set:\n",
            "tf.Tensor(\n",
            "[[3.9403730e-08 2.2203761e-08 1.3829144e-05 1.5300075e-03 2.9337849e-10\n",
            "  3.1156193e-07 2.8648677e-14 9.9841511e-01 7.3573227e-07 3.9881008e-05]\n",
            " [9.0605084e-07 5.9127906e-05 9.9992740e-01 4.2145507e-06 1.5287710e-13\n",
            "  8.8521330e-07 2.0462313e-07 1.4191555e-10 7.3120846e-06 1.6394674e-11]\n",
            " [3.9571495e-07 9.9873155e-01 2.0955322e-05 1.5677875e-05 1.8973144e-05\n",
            "  6.1774854e-06 2.4941428e-06 1.1058919e-03 9.5100237e-05 2.7351059e-06]\n",
            " [9.9996150e-01 4.9886393e-09 8.2489887e-06 1.8178936e-08 9.8998150e-08\n",
            "  2.5708783e-08 2.1443459e-05 5.9305075e-06 2.7853203e-10 2.7225194e-06]\n",
            " [1.8438075e-05 1.9627441e-10 4.8314578e-06 8.9459702e-09 9.8946804e-01\n",
            "  1.3617678e-05 1.9838733e-07 3.8371782e-05 1.9332513e-06 1.0454663e-02]], shape=(5, 10), dtype=float32)\n",
            "\n",
            "Baseline model prediction class of first 5 testcases in test set:\n",
            "tf.Tensor([7 2 1 0 4], shape=(5,), dtype=int64)\n",
            "image_id: 0 predict_class: 7\n",
            "image_id: 1 predict_class: 2\n",
            "image_id: 2 predict_class: 1\n",
            "image_id: 3 predict_class: 0\n",
            "image_id: 4 predict_class: 4\n",
            "\n",
            "True label of first 5 testcases:\n",
            "[7 2 1 0 4]\n"
          ],
          "name": "stdout"
        }
      ]
    },
    {
      "cell_type": "markdown",
      "metadata": {
        "id": "S3lxS79t-BfO"
      },
      "source": [
        "## Implementing Fast Gradient Sign Method"
      ]
    },
    {
      "cell_type": "markdown",
      "metadata": {
        "id": "RUb2eppgkJLH"
      },
      "source": [
        "Let's use a sample image from MNIST and create adversarial examples from it by FGSM. Here, I use the first image in train set."
      ]
    },
    {
      "cell_type": "code",
      "metadata": {
        "id": "QcPGj6jmVJIG",
        "colab": {
          "base_uri": "https://localhost:8080/"
        },
        "outputId": "309895a5-777f-4f4a-deb7-f37a31063aa6"
      },
      "source": [
        "# Helper function to preprocess the image\n",
        "def preprocess(image):\n",
        "  image = tf.cast(image, tf.float32)\n",
        "  return image\n",
        "\n",
        "# Helper function to get a 10-dim vector true label so that it can be inputted in loss function\n",
        "def get_mnist_label(label):\n",
        "  l = np.zeros((1, 10), dtype=float)\n",
        "  l[0][label] = 1\n",
        "  l = tf.convert_to_tensor(l)\n",
        "  return l\n",
        "\n",
        "print(get_mnist_label(5))"
      ],
      "execution_count": null,
      "outputs": [
        {
          "output_type": "stream",
          "text": [
            "tf.Tensor([[0. 0. 0. 0. 0. 1. 0. 0. 0. 0.]], shape=(1, 10), dtype=float64)\n"
          ],
          "name": "stdout"
        }
      ]
    },
    {
      "cell_type": "code",
      "metadata": {
        "id": "Oa8gkTNW9wu9",
        "colab": {
          "base_uri": "https://localhost:8080/",
          "height": 298
        },
        "outputId": "1d2f6391-f5fb-4ff0-efee-de6d1b21ba4b"
      },
      "source": [
        "import matplotlib.pyplot as plt\n",
        "\n",
        "image_index = 0\n",
        "image = x_train[image_index]  # shape (28, 28)\n",
        "plt.gray()\n",
        "plt.title('ture label: {}'.format(y_train[image_index]))\n",
        "plt.imshow(image)"
      ],
      "execution_count": null,
      "outputs": [
        {
          "output_type": "execute_result",
          "data": {
            "text/plain": [
              "<matplotlib.image.AxesImage at 0x7fe3ba3a3320>"
            ]
          },
          "metadata": {
            "tags": []
          },
          "execution_count": 86
        },
        {
          "output_type": "display_data",
          "data": {
            "image/png": "[encoded data removed]",
            "text/plain": [
              "<Figure size 432x288 with 1 Axes>"
            ]
          },
          "metadata": {
            "tags": [],
            "needs_background": "light"
          }
        }
      ]
    },
    {
      "cell_type": "markdown",
      "metadata": {
        "id": "4pMrpJezFaql"
      },
      "source": [
        "To implement fast gradient sign method, the first step is to create perturbations which will be used to distort the original image resulting in an adversarial image. The gradients are taken with respect to the image."
      ]
    },
    {
      "cell_type": "code",
      "metadata": {
        "id": "BnwbMZ-aFln7"
      },
      "source": [
        "cce_loss = tf.keras.losses.CategoricalCrossentropy()\n",
        "\n",
        "def create_adversarial_pattern(input_image, input_label):\n",
        "  with tf.GradientTape() as tape:\n",
        "    tape.watch(input_image)\n",
        "    prediction = probability_baseline(input_image)\n",
        "    true_label = get_mnist_label(input_label)\n",
        "    loss = cce_loss(true_label, prediction)\n",
        "\n",
        "  # Get the gradients of the loss w.r.t to the input image.\n",
        "  gradient = tape.gradient(loss, input_image)\n",
        "  # Get the sign of the gradients to create the perturbation\n",
        "  signed_grad = tf.sign(gradient)\n",
        "  return signed_grad"
      ],
      "execution_count": null,
      "outputs": []
    },
    {
      "cell_type": "markdown",
      "metadata": {
        "id": "mp8EjZlzOhYZ"
      },
      "source": [
        "The resulting perturbations can also be visualised."
      ]
    },
    {
      "cell_type": "code",
      "metadata": {
        "id": "LBmv20gNOkkX",
        "colab": {
          "base_uri": "https://localhost:8080/",
          "height": 282
        },
        "outputId": "c73eb6a3-94e2-49c4-b9d1-6fc0a0a9c8ba"
      },
      "source": [
        "image_index = 0\n",
        "image = x_train[image_index:image_index+1]  # shape (1, 28, 28)\n",
        "image = preprocess(image)                   # shape (1, 28, 28)\n",
        "label = y_train[image_index]\n",
        "\n",
        "perturbations = create_adversarial_pattern(image, label)  # shape (1, 28, 28)\n",
        "plt.imshow(perturbations[0])"
      ],
      "execution_count": null,
      "outputs": [
        {
          "output_type": "execute_result",
          "data": {
            "text/plain": [
              "<matplotlib.image.AxesImage at 0x7fe3ba392860>"
            ]
          },
          "metadata": {
            "tags": []
          },
          "execution_count": 88
        },
        {
          "output_type": "display_data",
          "data": {
            "image/png": "[encoded data removed]",
            "text/plain": [
              "<Figure size 432x288 with 1 Axes>"
            ]
          },
          "metadata": {
            "tags": [],
            "needs_background": "light"
          }
        }
      ]
    },
    {
      "cell_type": "markdown",
      "metadata": {
        "id": "bt1V0AWm3l1O"
      },
      "source": [
        "Let's try this out for different values of epsilon and observe the resultant image attacked by FGSM based non-targeted attack. You'll notice that as the value of epsilon is increased, it becomes easier to fool the network. However, this comes as a trade-off which results in the perturbations becoming more identifiable."
      ]
    },
    {
      "cell_type": "code",
      "metadata": {
        "id": "YfhPvraM3pYV"
      },
      "source": [
        "# image: shape(1, 28, 28)\n",
        "def display_images(image, description):\n",
        "  plt.figure()\n",
        "  plt.gray()\n",
        "  plt.title(description)\n",
        "  plt.imshow(image[0])\n",
        "  plt.show()"
      ],
      "execution_count": null,
      "outputs": []
    },
    {
      "cell_type": "markdown",
      "metadata": {
        "id": "ISr37ea0_qwm"
      },
      "source": [
        "To ensure the perturbations are small, we use $\\epsilon$ as a multiplier ranged from 0.01 to 0.5 . "
      ]
    },
    {
      "cell_type": "code",
      "metadata": {
        "id": "gMoI9By-4nKl",
        "colab": {
          "base_uri": "https://localhost:8080/",
          "height": 1000
        },
        "outputId": "cea26061-ce54-4ce8-9e6a-8cb63a3fa6de"
      },
      "source": [
        "epsilons = [0.01, 0.05, 0.1, 0.2, 0.3, 0.4, 0.5]\n",
        "\n",
        "for i, eps in enumerate(epsilons):\n",
        "  adv_x = image + eps * perturbations\n",
        "  adv_x = tf.clip_by_value(adv_x, 0, 1) # images are normalized to be in [0,1]\n",
        "  description = \"Epsilon: {}\".format(epsilons[i])\n",
        "  display_images(adv_x, description)"
      ],
      "execution_count": null,
      "outputs": [
        {
          "output_type": "display_data",
          "data": {
            "image/png": "[encoded data removed]",
            "text/plain": [
              "<Figure size 432x288 with 1 Axes>"
            ]
          },
          "metadata": {
            "tags": [],
            "needs_background": "light"
          }
        },
        {
          "output_type": "display_data",
          "data": {
            "image/png": "[encoded data removed]",
            "text/plain": [
              "<Figure size 432x288 with 1 Axes>"
            ]
          },
          "metadata": {
            "tags": [],
            "needs_background": "light"
          }
        },
        {
          "output_type": "display_data",
          "data": {
            "image/png": "[encoded data removed]",
            "text/plain": [
              "<Figure size 432x288 with 1 Axes>"
            ]
          },
          "metadata": {
            "tags": [],
            "needs_background": "light"
          }
        },
        {
          "output_type": "display_data",
          "data": {
            "image/png": "[encoded data removed]",
            "text/plain": [
              "<Figure size 432x288 with 1 Axes>"
            ]
          },
          "metadata": {
            "tags": [],
            "needs_background": "light"
          }
        },
        {
          "output_type": "display_data",
          "data": {
            "image/png": "[encoded data removed]",
            "text/plain": [
              "<Figure size 432x288 with 1 Axes>"
            ]
          },
          "metadata": {
            "tags": [],
            "needs_background": "light"
          }
        },
        {
          "output_type": "display_data",
          "data": {
            "image/png": "[encoded data removed]",
            "text/plain": [
              "<Figure size 432x288 with 1 Axes>"
            ]
          },
          "metadata": {
            "tags": [],
            "needs_background": "light"
          }
        },
        {
          "output_type": "display_data",
          "data": {
            "image/png": "[encoded data removed]",
            "text/plain": [
              "<Figure size 432x288 with 1 Axes>"
            ]
          },
          "metadata": {
            "tags": [],
            "needs_background": "light"
          }
        }
      ]
    },
    {
      "cell_type": "markdown",
      "metadata": {
        "id": "ai5Br8mXzZc4"
      },
      "source": [
        "## FGSM based Untargeted Attacks"
      ]
    },
    {
      "cell_type": "markdown",
      "metadata": {
        "id": "p0yv7O49Cg0v"
      },
      "source": [
        "Step 1, our first goal to implement FGSM based untargeted attacks using images from the test set on the baseline DNN. That is, our goal is to adversarially perturb each image in the **test set** using the following values of parameter $\\epsilon = \\{0.01, 0.05, 0.1, 0.2, 0.3, 0.4, 0.5\\}$. Report the success rate of our attack, i.e., the fraction of test images that were correctly classified by the baseline DNN that are mis-classified after adversarial perturbation, as a function of $\\epsilon$. "
      ]
    },
    {
      "cell_type": "markdown",
      "metadata": {
        "id": "xBhWYJBfLDkT"
      },
      "source": [
        "Implement FGSM based untargeted attacks according to [equation (0)](https://colab.research.google.com/drive/1hQTZLZ0KXHfWh0X2Ry-7BF8E5Wx7J5x0#scrollTo=XkzFmYcE4mYn&line=22&uniqifier=1)."
      ]
    },
    {
      "cell_type": "code",
      "metadata": {
        "id": "56xHz22PLKC8"
      },
      "source": [
        "# image: shape(1, 28, 28)\n",
        "# label: int, 0~9\n",
        "# adv_x: shape(1, 28, 28)\n",
        "def fgsm_untargeted(image, true_label, eps=0.1):\n",
        "  perturbations = create_adversarial_pattern(image, true_label)\n",
        "  adv_x = image + eps * perturbations\n",
        "  adv_x = tf.clip_by_value(adv_x, 0, 1)\n",
        "  return adv_x"
      ],
      "execution_count": null,
      "outputs": []
    },
    {
      "cell_type": "markdown",
      "metadata": {
        "id": "SzrItrR5UUJ1"
      },
      "source": [
        "Adversarially perturb each image in the test set by FGSM based untargeted perturbations.. And calculate the success rate of FGSM based untargeted attack, i.e., the fraction of test images that were correctly classified by the baseline DNN that are mis-classified after adversarial perturbation."
      ]
    },
    {
      "cell_type": "code",
      "metadata": {
        "id": "6svhoq45UazV",
        "colab": {
          "base_uri": "https://localhost:8080/"
        },
        "outputId": "4711318b-a230-413e-8871-6121533cf059"
      },
      "source": [
        "def fgsm_untargeted_attack(epsilon):\n",
        "  cnt_correct_classified_iamge = 0.0\n",
        "  cnt_mis_classified_image = 0.0\n",
        "  for i in range(x_test.shape[0]):\n",
        "    image = x_test[i:i+1]\n",
        "    before_predict_label = baseline_model_predict_class(image)\n",
        "    image = preprocess(image)\n",
        "    true_label = y_test[i]\n",
        "    adv_x = fgsm_untargeted(image, true_label, eps=epsilon)  # shape (1, 28, 28)\n",
        "    after_predict_label = baseline_model_predict_class(adv_x)\n",
        "\n",
        "    if before_predict_label == true_label:\n",
        "      cnt_correct_classified_iamge += 1.0\n",
        "      if after_predict_label != true_label:\n",
        "        cnt_mis_classified_image += 1.0\n",
        "    \n",
        "  attack_success_rate = cnt_mis_classified_image / cnt_correct_classified_iamge\n",
        "  return cnt_correct_classified_iamge, cnt_mis_classified_image, attack_success_rate\n",
        "\n",
        "\n",
        "untargeted_attack_success_rates = []\n",
        "for eps in epsilons:\n",
        "  cnt_correct_classified_iamge, cnt_mis_classified_image, attack_success_rate = fgsm_untargeted_attack(eps)\n",
        "  print(\"Epsilon: {}\\nNumber of correctly classified images: {}\\nNumber of mis-classified images after attack: {}\\nAttack Success Rate: {}\\n\".format(eps, cnt_correct_classified_iamge, cnt_mis_classified_image, attack_success_rate))\n",
        "  untargeted_attack_success_rates.append(attack_success_rate * 100)"
      ],
      "execution_count": null,
      "outputs": [
        {
          "output_type": "stream",
          "text": [
            "Epsilon: 0.01\n",
            "Number of correctly classified images: 9799.0\n",
            "Number of mis-classified images after attack: 188.0\n",
            "Attack Success Rate: 0.019185631186855803\n",
            "\n",
            "Epsilon: 0.05\n",
            "Number of correctly classified images: 9799.0\n",
            "Number of mis-classified images after attack: 2663.0\n",
            "Attack Success Rate: 0.27176242473721807\n",
            "\n",
            "Epsilon: 0.1\n",
            "Number of correctly classified images: 9799.0\n",
            "Number of mis-classified images after attack: 7459.0\n",
            "Attack Success Rate: 0.7612001224614756\n",
            "\n",
            "Epsilon: 0.2\n",
            "Number of correctly classified images: 9799.0\n",
            "Number of mis-classified images after attack: 9499.0\n",
            "Attack Success Rate: 0.9693846310848045\n",
            "\n",
            "Epsilon: 0.3\n",
            "Number of correctly classified images: 9799.0\n",
            "Number of mis-classified images after attack: 9582.0\n",
            "Attack Success Rate: 0.977854883151342\n",
            "\n",
            "Epsilon: 0.4\n",
            "Number of correctly classified images: 9799.0\n",
            "Number of mis-classified images after attack: 9582.0\n",
            "Attack Success Rate: 0.977854883151342\n",
            "\n",
            "Epsilon: 0.5\n",
            "Number of correctly classified images: 9799.0\n",
            "Number of mis-classified images after attack: 9582.0\n",
            "Attack Success Rate: 0.977854883151342\n",
            "\n"
          ],
          "name": "stdout"
        }
      ]
    },
    {
      "cell_type": "markdown",
      "metadata": {
        "id": "mRSh6t61ivi3"
      },
      "source": [
        "Draw a line graph of epsilon versus attack success rate."
      ]
    },
    {
      "cell_type": "code",
      "metadata": {
        "colab": {
          "base_uri": "https://localhost:8080/",
          "height": 295
        },
        "id": "aH-iQtRSjBBZ",
        "outputId": "7ddebb9f-8895-406a-e817-ac316c2c58df"
      },
      "source": [
        "def plot_attack_success_rate(epsilons, attack_success_rates, title):\n",
        "  assert len(epsilons) == len(attack_success_rates), 'Please check the length of attack_success_rates!'\n",
        "\n",
        "  plt.figure()\n",
        "  plt.plot(epsilons, attack_success_rates, marker='o')\n",
        "  plt.xlabel(\"Epsilon\")\n",
        "  plt.ylabel(\"Attack Success Rate (%)\")\n",
        "\n",
        "  attack_success_rates = [float(\"{:.2f}\".format(rate)) for rate in attack_success_rates]\n",
        "\n",
        "  for a, b in zip(epsilons, attack_success_rates):\n",
        "    plt.text(a, b, b, ha='center', va='bottom', fontsize=10)\n",
        "\n",
        "  plt.title(title)\n",
        "  plt.show()\n",
        "\n",
        "title = \"FGSM Untargeted Attack\"\n",
        "plot_attack_success_rate(epsilons, untargeted_attack_success_rates, title)"
      ],
      "execution_count": null,
      "outputs": [
        {
          "output_type": "display_data",
          "data": {
            "image/png": "[encoded data removed]",
            "text/plain": [
              "<Figure size 432x288 with 1 Axes>"
            ]
          },
          "metadata": {
            "tags": [],
            "needs_background": "light"
          }
        }
      ]
    },
    {
      "cell_type": "markdown",
      "metadata": {
        "id": "vYtkytSoqWdD"
      },
      "source": [
        "We can notice that as the value of epsilon is increased, the attack success rate is increased, it becomes easier to fool the network."
      ]
    },
    {
      "cell_type": "markdown",
      "metadata": {
        "id": "Jj97MzKyzjsy"
      },
      "source": [
        "## FGSM based Targeted Attacks"
      ]
    },
    {
      "cell_type": "markdown",
      "metadata": {
        "id": "OfPhPCa0Clkf"
      },
      "source": [
        "Step 2, we will repeat Step 1 above, except this time perform *targeted* attacks where digit $i$ is classified as $(i+1)\\%10$ on the baseline DNN. (Here, $i$ refers to the true ground-truth label of the test images, and we can assume that the attacker has access to these labels). Test image with label $i$ will be perturbed with label $(i+1)\\%10$.\n",
        "\n",
        "As before, use the following values of the parameter $\\epsilon = \\{0.01, 0.05, 0.1, 0.2, 0.3, 0.4, 0.5\\}$. Report the attack’s success rate as a function of parameter $\\epsilon$ where success rate is defined as the fraction of test images that were that were correctly classified by the baseline DNN that are mis-classified after adversarial perturbations with label $(i+1)\\%10$."
      ]
    },
    {
      "cell_type": "markdown",
      "metadata": {
        "id": "FHKPc49UNnpO"
      },
      "source": [
        "Implement FGSM based targeted attacks according to [equation (1)](https://colab.research.google.com/drive/1hQTZLZ0KXHfWh0X2Ry-7BF8E5Wx7J5x0#scrollTo=XkzFmYcE4mYn&line=22&uniqifier=1)."
      ]
    },
    {
      "cell_type": "code",
      "metadata": {
        "id": "ppRr6nSeNnpP"
      },
      "source": [
        "# image: shape(1, 28, 28)\n",
        "# label: int, 0~9\n",
        "# adv_x: shape(1, 28, 28)\n",
        "def fgsm_targeted(image, fake_label, eps=0.1):\n",
        "  perturbations = create_adversarial_pattern(image, fake_label)\n",
        "  adv_x = image - eps * perturbations\n",
        "  adv_x = tf.clip_by_value(adv_x, 0, 1)\n",
        "  return adv_x"
      ],
      "execution_count": null,
      "outputs": []
    },
    {
      "cell_type": "markdown",
      "metadata": {
        "id": "qXBVGCDhjXyp"
      },
      "source": [
        "Adversarially perturb each image in the test set by FGSM based targeted perturbations. And calculate the success rate of FGSM based untargeted attack, i.e., the fraction of test images that were correctly classified by the baseline DNN that are mis-classified after adversarial perturbation."
      ]
    },
    {
      "cell_type": "code",
      "metadata": {
        "id": "SPbnGU63kBvV",
        "colab": {
          "base_uri": "https://localhost:8080/",
          "height": 890
        },
        "outputId": "8e6710ec-1395-4814-d851-01defbf452f7"
      },
      "source": [
        "def fgsm_targeted_attack(epsilon):\n",
        "  cnt_correct_classified_iamge = 0.0\n",
        "  cnt_mis_classified_image = 0.0\n",
        "  for i in range(x_test.shape[0]):\n",
        "    image = x_test[i:i+1]\n",
        "    before_predict_label = baseline_model_predict_class(image)\n",
        "    image = preprocess(image)\n",
        "    true_label = y_test[i]\n",
        "    fake_label = (true_label + 1) % 10\n",
        "    adv_x = fgsm_targeted(image, fake_label, eps=epsilon)  # shape (1, 28, 28)\n",
        "    after_predict_label = baseline_model_predict_class(adv_x)\n",
        "\n",
        "    if before_predict_label == true_label:\n",
        "      cnt_correct_classified_iamge += 1.0\n",
        "      if after_predict_label != true_label and after_predict_label == fake_label:\n",
        "        cnt_mis_classified_image += 1.0\n",
        "    \n",
        "  attack_success_rate = cnt_mis_classified_image / cnt_correct_classified_iamge\n",
        "  return cnt_correct_classified_iamge, cnt_mis_classified_image, attack_success_rate\n",
        "\n",
        "\n",
        "targeted_attack_success_rates = []\n",
        "for eps in epsilons:\n",
        "  cnt_correct_classified_iamge, cnt_mis_classified_image, attack_success_rate = fgsm_targeted_attack(eps)\n",
        "  print(\"Epsilon: {}\\nNumber of correctly classified images: {}\\nNumber of mis-classified images after attack: {}\\nAttack Success Rate: {}\\n\".format(eps, cnt_correct_classified_iamge, cnt_mis_classified_image, attack_success_rate))\n",
        "  targeted_attack_success_rates.append(attack_success_rate * 100)\n",
        "\n",
        "title = \"FGSM Targeted Attack\"\n",
        "plot_attack_success_rate(epsilons, targeted_attack_success_rates, title)\n"
      ],
      "execution_count": null,
      "outputs": [
        {
          "output_type": "stream",
          "text": [
            "Epsilon: 0.01\n",
            "Number of correctly classified images: 9799.0\n",
            "Number of mis-classified images after attack: 19.0\n",
            "Attack Success Rate: 0.0019389733646290438\n",
            "\n",
            "Epsilon: 0.05\n",
            "Number of correctly classified images: 9799.0\n",
            "Number of mis-classified images after attack: 553.0\n",
            "Attack Success Rate: 0.056434330033676906\n",
            "\n",
            "Epsilon: 0.1\n",
            "Number of correctly classified images: 9799.0\n",
            "Number of mis-classified images after attack: 3510.0\n",
            "Attack Success Rate: 0.3581998163077865\n",
            "\n",
            "Epsilon: 0.2\n",
            "Number of correctly classified images: 9799.0\n",
            "Number of mis-classified images after attack: 4616.0\n",
            "Attack Success Rate: 0.4710684763751403\n",
            "\n",
            "Epsilon: 0.3\n",
            "Number of correctly classified images: 9799.0\n",
            "Number of mis-classified images after attack: 4466.0\n",
            "Attack Success Rate: 0.4557607919175426\n",
            "\n",
            "Epsilon: 0.4\n",
            "Number of correctly classified images: 9799.0\n",
            "Number of mis-classified images after attack: 4207.0\n",
            "Attack Success Rate: 0.4293295234207572\n",
            "\n",
            "Epsilon: 0.5\n",
            "Number of correctly classified images: 9799.0\n",
            "Number of mis-classified images after attack: 3948.0\n",
            "Attack Success Rate: 0.40289825492397185\n",
            "\n"
          ],
          "name": "stdout"
        },
        {
          "output_type": "display_data",
          "data": {
            "image/png": "[encoded data removed]",
            "text/plain": [
              "<Figure size 432x288 with 1 Axes>"
            ]
          },
          "metadata": {
            "tags": [],
            "needs_background": "light"
          }
        }
      ]
    },
    {
      "cell_type": "markdown",
      "metadata": {
        "id": "NNXQz3hdqpe-"
      },
      "source": [
        "We can notice that as the value of epsilon is increased, the attack success rate goes up first and then goes down slowly."
      ]
    },
    {
      "cell_type": "markdown",
      "metadata": {
        "id": "NSbBavUWzniq"
      },
      "source": [
        "## Adversarial Retraining against Untargeted FGSM Attacks"
      ]
    },
    {
      "cell_type": "markdown",
      "metadata": {
        "id": "hYgZkMm6CqBe"
      },
      "source": [
        "Step 3, we can assume $\\epsilon = 0.1$ throughout. To defend against adversarial perturbations, the defender adversarially perturbs each image in her **training set** using the attacker’s strategy in Step 1. She then appends the adversarially perturbed images to her training set, but using their *correct* labels. Then, the defender retrains the baseline DNN with a new training dataset containing both images from the original training dataset and the new adversarially perturbed images. We call the new DNN the **adversarially retrained DNN**.\n",
        "\n",
        "* Report the classification accuracy of the adversarially retrained DNN on the original test dataset that contains only clean inputs.\n",
        "* Is the adversarially retrained DNN robust against adversarial perturbations? Implement FGSM based untargeted attacks using images from the clean test set on the adversarially retrained DNN. Report the success rate of your attack."
      ]
    },
    {
      "cell_type": "markdown",
      "metadata": {
        "id": "jHaXaN6-nXv_"
      },
      "source": [
        "As a defender now, adversarially perturbs each image in the training set using the attacker's strategy in Step 1 and append the adversarially perturbed images to her training set with their true labels."
      ]
    },
    {
      "cell_type": "code",
      "metadata": {
        "id": "5M8zWLtvoAY9",
        "colab": {
          "base_uri": "https://localhost:8080/"
        },
        "outputId": "f797559f-0051-4e57-d291-3eaf2c0616e7"
      },
      "source": [
        "epsilon = 0.1\n",
        "delta_x_train = np.zeros(x_train.shape)\n",
        "\n",
        "for i in range(x_train.shape[0]):\n",
        "  image = x_train[i:i+1]    # shape (1, 28, 28)\n",
        "  image = preprocess(image)\n",
        "  true_label = y_train[i]\n",
        "  adv_x = fgsm_untargeted(image, true_label, eps=epsilon)  # shape (1, 28, 28)\n",
        "  delta_x_train[i] = adv_x[0]\n",
        "\n",
        "\n",
        "new_x_train = np.append(x_train, delta_x_train, axis=0)\n",
        "new_y_train = np.append(y_train, y_train, axis=0)\n",
        "assert new_x_train.shape[0] == 120000, \"Please make sure new train set has 120000 samples!\"\n",
        "assert new_y_train.shape[0] == 120000, \"Please make sure new train set has 120000 samples!\"\n",
        "\n",
        "print(\"new train set images shape: {}\".format(new_x_train.shape))\n",
        "print(\"new train set labels shape: {}\".format(new_y_train.shape))"
      ],
      "execution_count": null,
      "outputs": [
        {
          "output_type": "stream",
          "text": [
            "new train set images shape: (120000, 28, 28)\n",
            "new train set labels shape: (120000,)\n"
          ],
          "name": "stdout"
        }
      ]
    },
    {
      "cell_type": "markdown",
      "metadata": {
        "id": "54lynkr3oAia"
      },
      "source": [
        "Retrain the baseline DNN with new training set containing both images from the original training dataset and the new adversarially perturbed images."
      ]
    },
    {
      "cell_type": "code",
      "metadata": {
        "id": "EmB9FlRSoFiq",
        "colab": {
          "base_uri": "https://localhost:8080/"
        },
        "outputId": "d33733ba-cd4e-4b1a-bf31-cd7302fe6bf8"
      },
      "source": [
        "adv_retrained_dnn = tf.keras.models.Sequential([\n",
        "  tf.keras.layers.Flatten(input_shape=(28, 28)),\n",
        "  tf.keras.layers.Dense(128, activation='relu'),\n",
        "  tf.keras.layers.Dropout(0.2),\n",
        "  tf.keras.layers.Dense(10)\n",
        "])\n",
        "\n",
        "loss_fn = tf.keras.losses.SparseCategoricalCrossentropy(from_logits=True)\n",
        "\n",
        "adv_retrained_dnn.compile(optimizer='adam',\n",
        "              loss=loss_fn,\n",
        "              metrics=['accuracy'])\n",
        "\n",
        "adv_retrained_dnn.fit(new_x_train, new_y_train, epochs=5)"
      ],
      "execution_count": null,
      "outputs": [
        {
          "output_type": "stream",
          "text": [
            "Epoch 1/5\n",
            "3750/3750 [==============================] - 7s 2ms/step - loss: 0.1904 - accuracy: 0.9448\n",
            "Epoch 2/5\n",
            "3750/3750 [==============================] - 7s 2ms/step - loss: 0.0779 - accuracy: 0.9766\n",
            "Epoch 3/5\n",
            "3750/3750 [==============================] - 7s 2ms/step - loss: 0.0573 - accuracy: 0.9820\n",
            "Epoch 4/5\n",
            "3750/3750 [==============================] - 7s 2ms/step - loss: 0.0461 - accuracy: 0.9850\n",
            "Epoch 5/5\n",
            "3750/3750 [==============================] - 7s 2ms/step - loss: 0.0422 - accuracy: 0.9865\n"
          ],
          "name": "stdout"
        },
        {
          "output_type": "execute_result",
          "data": {
            "text/plain": [
              "<tensorflow.python.keras.callbacks.History at 0x7fe3ba4374e0>"
            ]
          },
          "metadata": {
            "tags": []
          },
          "execution_count": 97
        }
      ]
    },
    {
      "cell_type": "markdown",
      "metadata": {
        "id": "UB7iD8ZzoFqi"
      },
      "source": [
        "Evaluate the classification accuracy of the adversarially retrained DNN on the original test dataset that contains only clean inputs."
      ]
    },
    {
      "cell_type": "code",
      "metadata": {
        "id": "SRSKKo07oNrW",
        "colab": {
          "base_uri": "https://localhost:8080/"
        },
        "outputId": "619dd703-dbf4-4b17-daa3-280c28b53f94"
      },
      "source": [
        "adv_retrained_dnn.evaluate(x_test, y_test, verbose=2)"
      ],
      "execution_count": null,
      "outputs": [
        {
          "output_type": "stream",
          "text": [
            "313/313 - 1s - loss: 0.0754 - accuracy: 0.9782\n"
          ],
          "name": "stdout"
        },
        {
          "output_type": "execute_result",
          "data": {
            "text/plain": [
              "[0.07536563277244568, 0.9782000184059143]"
            ]
          },
          "metadata": {
            "tags": []
          },
          "execution_count": 98
        }
      ]
    },
    {
      "cell_type": "markdown",
      "metadata": {
        "id": "1hCi-05zdcww"
      },
      "source": [
        "Since it is more intuitive for the adversarially retrained DNN model to return a probability, we can wrap the retrained model, and attach the softmax to it:"
      ]
    },
    {
      "cell_type": "code",
      "metadata": {
        "id": "Gab0bDvcdcww"
      },
      "source": [
        "probability_adv_retrained_dnn = tf.keras.Sequential([\n",
        "  adv_retrained_dnn,\n",
        "  tf.keras.layers.Softmax()\n",
        "])"
      ],
      "execution_count": null,
      "outputs": []
    },
    {
      "cell_type": "code",
      "metadata": {
        "id": "5l3jTHfedcww"
      },
      "source": [
        "# image: shape(1, 28, 28)\n",
        "def adv_retrained_dnn_predict_class(image):\n",
        "  predition_prob = adv_retrained_dnn(image)\n",
        "  prediction_class = tf.argmax(predition_prob, axis=1)\n",
        "  return int(prediction_class)"
      ],
      "execution_count": null,
      "outputs": []
    },
    {
      "cell_type": "markdown",
      "metadata": {
        "id": "1Eak0DSveA74"
      },
      "source": [
        "Test adversarially retrained DNN model on first 5 testcases in test set. We can see that all 5 test images are classified correctly."
      ]
    },
    {
      "cell_type": "code",
      "metadata": {
        "colab": {
          "base_uri": "https://localhost:8080/"
        },
        "id": "t7eURkqAeA74",
        "outputId": "1d9ca936-3e1e-4076-af67-3197d9c58a53"
      },
      "source": [
        "for i in range(5):\n",
        "  input_image = x_test[i:i+1]\n",
        "  print(\"image_id: {} predict_class: {} true_label: {}\".format(i, adv_retrained_dnn_predict_class(input_image), y_test[i]))"
      ],
      "execution_count": null,
      "outputs": [
        {
          "output_type": "stream",
          "text": [
            "image_id: 0 predict_class: 7 true_label: 7\n",
            "image_id: 1 predict_class: 2 true_label: 2\n",
            "image_id: 2 predict_class: 1 true_label: 1\n",
            "image_id: 3 predict_class: 0 true_label: 0\n",
            "image_id: 4 predict_class: 4 true_label: 4\n"
          ],
          "name": "stdout"
        }
      ]
    },
    {
      "cell_type": "markdown",
      "metadata": {
        "id": "I_QInG6NoN0t"
      },
      "source": [
        "Let's see if the adversarially retrained DNN can resist attack from adversarial perturbations. Implement FGSM based untargeted attacks using images from the clean test set on the adversarially retrained DNN. Calculate the success rate of the attack."
      ]
    },
    {
      "cell_type": "code",
      "metadata": {
        "id": "6yGfe6HAoqko",
        "colab": {
          "base_uri": "https://localhost:8080/",
          "height": 890
        },
        "outputId": "b5dddf76-de38-4ad6-d8b2-bd87ea65aec7"
      },
      "source": [
        "def fgsm_untargeted_attack_retrained(epsilon):\n",
        "  cnt_correct_classified_iamge = 0.0\n",
        "  cnt_mis_classified_image = 0.0\n",
        "  for i in range(x_test.shape[0]):\n",
        "    image = x_test[i:i+1]\n",
        "    before_predict_label = adv_retrained_dnn_predict_class(image)\n",
        "    image = preprocess(image)\n",
        "    true_label = y_test[i]\n",
        "    adv_x = fgsm_untargeted(image, true_label, eps=epsilon)  # shape (1, 28, 28)\n",
        "    after_predict_label = adv_retrained_dnn_predict_class(adv_x)\n",
        "\n",
        "    if before_predict_label == true_label:\n",
        "      cnt_correct_classified_iamge += 1.0\n",
        "      if after_predict_label != true_label:\n",
        "        cnt_mis_classified_image += 1.0\n",
        "    \n",
        "  attack_success_rate = cnt_mis_classified_image / cnt_correct_classified_iamge\n",
        "  return cnt_correct_classified_iamge, cnt_mis_classified_image, attack_success_rate\n",
        "\n",
        "\n",
        "untargeted_attack_success_rates_retrained = []\n",
        "for eps in epsilons:\n",
        "  cnt_correct_classified_iamge, cnt_mis_classified_image, attack_success_rate = fgsm_untargeted_attack_retrained(eps)\n",
        "  print(\"Epsilon: {}\\nNumber of correctly classified images: {}\\nNumber of mis-classified images after attack: {}\\nAttack Success Rate: {}\\n\".format(eps, cnt_correct_classified_iamge, cnt_mis_classified_image, attack_success_rate))\n",
        "  untargeted_attack_success_rates_retrained.append(attack_success_rate * 100)\n",
        "\n",
        "\n",
        "title = \"FGSM Untargeted Attacks on Adversarially Retrained DNN\"\n",
        "plot_attack_success_rate(epsilons, untargeted_attack_success_rates_retrained, title)"
      ],
      "execution_count": null,
      "outputs": [
        {
          "output_type": "stream",
          "text": [
            "Epsilon: 0.01\n",
            "Number of correctly classified images: 9782.0\n",
            "Number of mis-classified images after attack: 0.0\n",
            "Attack Success Rate: 0.0\n",
            "\n",
            "Epsilon: 0.05\n",
            "Number of correctly classified images: 9782.0\n",
            "Number of mis-classified images after attack: 0.0\n",
            "Attack Success Rate: 0.0\n",
            "\n",
            "Epsilon: 0.1\n",
            "Number of correctly classified images: 9782.0\n",
            "Number of mis-classified images after attack: 0.0\n",
            "Attack Success Rate: 0.0\n",
            "\n",
            "Epsilon: 0.2\n",
            "Number of correctly classified images: 9782.0\n",
            "Number of mis-classified images after attack: 7.0\n",
            "Attack Success Rate: 0.0007156000817828664\n",
            "\n",
            "Epsilon: 0.3\n",
            "Number of correctly classified images: 9782.0\n",
            "Number of mis-classified images after attack: 47.0\n",
            "Attack Success Rate: 0.004804743406256389\n",
            "\n",
            "Epsilon: 0.4\n",
            "Number of correctly classified images: 9782.0\n",
            "Number of mis-classified images after attack: 187.0\n",
            "Attack Success Rate: 0.01911674504191372\n",
            "\n",
            "Epsilon: 0.5\n",
            "Number of correctly classified images: 9782.0\n",
            "Number of mis-classified images after attack: 401.0\n",
            "Attack Success Rate: 0.04099366182784707\n",
            "\n"
          ],
          "name": "stdout"
        },
        {
          "output_type": "display_data",
          "data": {
            "image/png": "[encoded data removed]",
            "text/plain": [
              "<Figure size 432x288 with 1 Axes>"
            ]
          },
          "metadata": {
            "tags": [],
            "needs_background": "light"
          }
        }
      ]
    },
    {
      "cell_type": "markdown",
      "metadata": {
        "id": "G3MjSpNLw_IE"
      },
      "source": [
        "We can notice that as the value of epsilon is increased, the attack success rate remains very low (under 4.2%). When $\\epsilon = \\{0.01, 0.05, 0.1\\}$, the number of mis-classified images is 0, which means the adversarial attack didn't fool the dnn at all. The adversarially retrained DNN is robust against adversarial perturbations."
      ]
    },
    {
      "cell_type": "markdown",
      "metadata": {
        "id": "q91ERjBPJnhC"
      },
      "source": [
        "# References\n",
        "* Goodfellow I J, Shlens J, Szegedy C. Explaining and harnessing adversarial examples[J]. arXiv preprint arXiv:1412.6572, 2014.\n",
        "* https://www.tensorflow.org/tutorials/generative/adversarial_fgsm\n",
        "* https://github.com/tensorflow/cleverhans\n",
        "* https://harvard-iacs.github.io/2019-CS109B/lecture/lab21/AdversarialNN/"
      ]
    }
  ]
}